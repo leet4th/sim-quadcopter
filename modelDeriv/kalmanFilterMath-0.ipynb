{
 "cells": [
  {
   "cell_type": "code",
   "execution_count": 1,
   "metadata": {},
   "outputs": [],
   "source": [
    "from __future__ import division, print_function\n",
    "%matplotlib inline"
   ]
  },
  {
   "cell_type": "code",
   "execution_count": 2,
   "metadata": {},
   "outputs": [],
   "source": [
    "import sympy\n",
    "from  sympy import Matrix, eye, symbols, sin, cos, zeros, sqrt, diag\n",
    "from sympy.physics.mechanics import *\n",
    "from IPython.display import display\n",
    "sympy.init_printing(use_latex='mathjax')\n",
    "\n",
    "import numpy as np\n",
    "\n"
   ]
  },
  {
   "cell_type": "markdown",
   "metadata": {},
   "source": [
    "# Quaternion Math"
   ]
  },
  {
   "cell_type": "code",
   "execution_count": 3,
   "metadata": {},
   "outputs": [],
   "source": [
    "def expq(n):\n",
    "    n *= 0.5\n",
    "    nNorm = n.norm()\n",
    "    qn = Matrix([cos(nNorm),n/nNorm*sin(nNorm)])\n",
    "    return qn\n",
    "\n",
    "def quat2dcm(q):\n",
    "    \"\"\"\n",
    "    Convert quaternion to DCM\n",
    "    \"\"\"\n",
    "    \n",
    "    # Extract components\n",
    "    w = q[0]\n",
    "    x = q[1]\n",
    "    y = q[2]\n",
    "    z = q[3]\n",
    "    \n",
    "    # Reduce repeated calculations\n",
    "    ww = w*w\n",
    "    xx = x*x\n",
    "    yy = y*y\n",
    "    zz = z*z  \n",
    "    wx = w*x\n",
    "    wy = w*y\n",
    "    wz = w*z\n",
    "    xy = x*y\n",
    "    xz = x*z\n",
    "    yz = y*z\n",
    "    \n",
    "    # Build Direction Cosine Matrix (DCM)   \n",
    "    dcm = Matrix([\n",
    "        [ww + xx - yy - zz,       2*(xy - wz),       2*(xz + wy)],\n",
    "        [      2*(xy + wz), ww - xx + yy - zz,       2*(yz - wx)],\n",
    "        [      2*(xz - wy),       2*(yz + wx), ww - xx - yy + zz]\n",
    "    ])\n",
    "    return dcm\n",
    "\n",
    "def dcm2quat(dcm):\n",
    "    \"\"\"\n",
    "    Determine quaternion corresponding to dcm using\n",
    "    the stanley method. \n",
    "    \n",
    "    Flips sign to always return shortest path quaterion\n",
    "    so w >= 0\n",
    "    \n",
    "    Converts the 3x3 DCM into the quaterion where the \n",
    "    first component is the real part\n",
    "    \"\"\"\n",
    "    \n",
    "    tr = Matrix.trace(dcm)\n",
    "    \n",
    "    w = 0.25*(1+tr)\n",
    "    x = 0.25*(1+2*dcm[0,0]-tr)\n",
    "    y = 0.25*(1+2*dcm[1,1]-tr)\n",
    "    z = 0.25*(1+2*dcm[2,2]-tr)\n",
    "    \n",
    "    #kMax = np.argmax([w,x,y,z])\n",
    "    \n",
    "    kMax = 0\n",
    "    \n",
    "    if kMax == 0:\n",
    "        w = sqrt(w)\n",
    "        x = 0.25*(dcm[1,2]-dcm[2,1])/w\n",
    "        y = 0.25*(dcm[2,0]-dcm[0,2])/w\n",
    "        z = 0.25*(dcm[0,1]-dcm[1,0])/w\n",
    "    \n",
    "    elif kMax == 1:\n",
    "        x = sqrt(x)\n",
    "        w = 0.25*(dcm[1,2]-dcm[2,1])/x\n",
    "        if w<0:\n",
    "            x = -x\n",
    "            w = -w\n",
    "        y = 0.25*(dcm[0,1]+dcm[1,0])/x\n",
    "        z = 0.25*(dcm[2,0]+dcm[0,2])/x\n",
    "        \n",
    "    elif kMax == 2:\n",
    "        y = sqrt(y)\n",
    "        w = 0.25*(dcm[2,0]-dcm[0,2])/y\n",
    "        if w<0:\n",
    "            y = -y\n",
    "            w = -w\n",
    "        x = 0.25*(dcm[0,1]+dcm[1,0])/y\n",
    "        z = 0.25*(dcm[1,2]+dcm[2,1])/y\n",
    "        \n",
    "    elif kMax == 3:\n",
    "        z = sqrt(z)\n",
    "        w = 0.25*(dcm[0,1]-dcm[1,0])/z\n",
    "        if w<0:\n",
    "            z = -z\n",
    "            w = -w\n",
    "        x = 0.25*(dcm[2,0]+dcm[0,2])/z\n",
    "        y = 0.25*(dcm[1,2]+dcm[2,1])/z\n",
    "        \n",
    "    q = Matrix([w,x,y,z])\n",
    "    \n",
    "    return q\n",
    "\n",
    "def skew3(v):\n",
    "    vx,vy,vz = v\n",
    "    out = Matrix([[  0, -vz,   vy],\n",
    "                  [ vz,   0,  -vx],\n",
    "                  [-vy,  vx,    0]])\n",
    "    return out\n",
    "\n",
    "def skew4Left(v):\n",
    "    if len(v)==3:\n",
    "        v = Matrix.vstack(zeros(1),v)\n",
    "    w,x,y,z = v\n",
    "    out = Matrix([\n",
    "            [w, -x, -y, -z],\n",
    "            [x,  w, -z,  y],\n",
    "            [y,  z,  w, -x],\n",
    "            [z, -y,  x,  w],\n",
    "        ])        \n",
    "    return out\n",
    "\n",
    "def skew4Right(v):\n",
    "    if len(v)==3:\n",
    "        v = Matrix.vstack(zeros(1),v)\n",
    "    w,x,y,z = v\n",
    "    out = Matrix([\n",
    "            [w, -x, -y, -z],\n",
    "            [x,  w,  z, -y],\n",
    "            [y, -z,  w,  x],\n",
    "            [z,  y, -x,  w],\n",
    "        ])      \n",
    "    return out\n",
    "\n",
    "\n",
    "def quatConj(q):\n",
    "    q_out = Matrix(q[:])\n",
    "    q_out = q_out.T*sympy.diag(1,-1,-1,-1)\n",
    "    q_out = q_out.T\n",
    "\n",
    "    return q_out\n",
    "\n",
    "def qRot(q,v):\n",
    "    qPrime = quatConj(q)\n",
    "    v = Matrix.vstack(zeros(1),v)\n",
    "    vout = skew4Left(q)*skew4Right(qPrime)*v\n",
    "    return Matrix(vout[1:])\n",
    "\n",
    "def dRotdq(q,v):\n",
    "    qw,qx,qy,qz = q\n",
    "    vx,vy,vz = v\n",
    "\n",
    "\n",
    "    dRdq = Matrix([\n",
    "        [2*qw*vx + 2*qy*vz - 2*qz*vy,  2*qx*vx + 2*qy*vy + 2*qz*vz,  2*qw*vz + 2*qx*vy - 2*qy*vx, -2*qw*vy + 2*qx*vz - 2*qz*vx],\n",
    "        [2*qw*vy - 2*qx*vz + 2*qz*vx, -2*qw*vz - 2*qx*vy + 2*qy*vx,  2*qx*vx + 2*qy*vy + 2*qz*vz,  2*qw*vx + 2*qy*vz - 2*qz*vy],\n",
    "        [2*qw*vz + 2*qx*vy - 2*qy*vx,  2*qw*vy - 2*qx*vz + 2*qz*vx, -2*qw*vx - 2*qy*vz + 2*qz*vy,  2*qx*vx + 2*qy*vy + 2*qz*vz]\n",
    "    ])\n",
    "\n",
    "    return dRdq"
   ]
  },
  {
   "cell_type": "markdown",
   "metadata": {},
   "source": [
    "# Setup"
   ]
  },
  {
   "cell_type": "code",
   "execution_count": 4,
   "metadata": {},
   "outputs": [],
   "source": [
    "# Time step\n",
    "t = symbols('T')\n",
    "\n",
    "# States\n",
    "qw,qx,qy,qz = symbols('q_w q_x q_y q_z')\n",
    "rx,ry,rz = symbols('r_x r_y r_z') \n",
    "vx,vy,vz = symbols('v_x v_y v_z')\n",
    "abx,aby,abz = symbols('a_bx a_by a_bz')\n",
    "gbx,gby,gbz = symbols('g_bx g_by g_bz')\n",
    "\n",
    "r_L = Matrix([rx,ry,rz])\n",
    "v_L = Matrix([vx,vy,vz])\n",
    "q_toLfromB = Matrix([qw,qx,qy,qz])\n",
    "gyroBias = Matrix([gbx,gby,gbz])\n",
    "accelBias = Matrix([abx,aby,abz])\n",
    "\n",
    "# Measurements\n",
    "ax,ay,az = symbols('a_x a_y a_z') # measured\n",
    "mx,my,mz = symbols('m_x m_y m_z') # measured \n",
    "wx,wy,wz = symbols('w_x w_y w_z') # measured\n",
    "\n",
    "accelMeas = Matrix([ax,ay,az])\n",
    "magMeas = Matrix([mx,my,mz]) \n",
    "wMeas = Matrix([wx,wy,wz])\n",
    "\n",
    "# Nav vectors\n",
    "g = symbols('g')\n",
    "bx,by,bz = symbols('b_x b_y b_z') \n",
    "\n",
    "g_L = Matrix([0,0,g])\n",
    "B_L = Matrix([mx,0,0])\n",
    "\n",
    "# Uncertainties\n",
    "wax,way,waz = symbols('w_ax w_ay w_az') \n",
    "wa = symbols('w_a')\n",
    "ww = symbols('w_w')\n",
    "waB = symbols('w_aB')\n",
    "wgB = symbols('w_gB')"
   ]
  },
  {
   "cell_type": "markdown",
   "metadata": {},
   "source": [
    "# Validate quaternion math"
   ]
  },
  {
   "cell_type": "code",
   "execution_count": 5,
   "metadata": {
    "scrolled": true
   },
   "outputs": [
    {
     "name": "stdout",
     "output_type": "stream",
     "text": [
      "dcm\n"
     ]
    },
    {
     "data": {
      "text/latex": [
       "$\\displaystyle \\left[\\begin{matrix}q_{w}^{2} + q_{x}^{2} - q_{y}^{2} - q_{z}^{2} & - 2 q_{w} q_{z} + 2 q_{x} q_{y} & 2 q_{w} q_{y} + 2 q_{x} q_{z}\\\\2 q_{w} q_{z} + 2 q_{x} q_{y} & q_{w}^{2} - q_{x}^{2} + q_{y}^{2} - q_{z}^{2} & - 2 q_{w} q_{x} + 2 q_{y} q_{z}\\\\- 2 q_{w} q_{y} + 2 q_{x} q_{z} & 2 q_{w} q_{x} + 2 q_{y} q_{z} & q_{w}^{2} - q_{x}^{2} - q_{y}^{2} + q_{z}^{2}\\end{matrix}\\right]$"
      ],
      "text/plain": [
       "⎡   2     2      2      2                                                    ⎤\n",
       "⎢q_w  + qₓ  - q_y  - q_z    -2⋅q_w⋅q_z + 2⋅qₓ⋅q_y      2⋅q_w⋅q_y + 2⋅qₓ⋅q_z  ⎥\n",
       "⎢                                                                            ⎥\n",
       "⎢                             2     2      2      2                          ⎥\n",
       "⎢  2⋅q_w⋅q_z + 2⋅qₓ⋅q_y    q_w  - qₓ  + q_y  - q_z    -2⋅q_w⋅qₓ + 2⋅q_y⋅q_z  ⎥\n",
       "⎢                                                                            ⎥\n",
       "⎢                                                       2     2      2      2⎥\n",
       "⎣ -2⋅q_w⋅q_y + 2⋅qₓ⋅q_z      2⋅q_w⋅qₓ + 2⋅q_y⋅q_z    q_w  - qₓ  - q_y  + q_z ⎦"
      ]
     },
     "metadata": {},
     "output_type": "display_data"
    },
    {
     "name": "stdout",
     "output_type": "stream",
     "text": [
      "[q]L\n"
     ]
    },
    {
     "data": {
      "text/latex": [
       "$\\displaystyle \\left[\\begin{matrix}q_{w} & - q_{x} & - q_{y} & - q_{z}\\\\q_{x} & q_{w} & - q_{z} & q_{y}\\\\q_{y} & q_{z} & q_{w} & - q_{x}\\\\q_{z} & - q_{y} & q_{x} & q_{w}\\end{matrix}\\right]$"
      ],
      "text/plain": [
       "⎡q_w  -qₓ   -q_y  -q_z⎤\n",
       "⎢                     ⎥\n",
       "⎢qₓ   q_w   -q_z  q_y ⎥\n",
       "⎢                     ⎥\n",
       "⎢q_y  q_z   q_w   -qₓ ⎥\n",
       "⎢                     ⎥\n",
       "⎣q_z  -q_y   qₓ   q_w ⎦"
      ]
     },
     "metadata": {},
     "output_type": "display_data"
    },
    {
     "name": "stdout",
     "output_type": "stream",
     "text": [
      "[q]R\n"
     ]
    },
    {
     "data": {
      "text/latex": [
       "$\\displaystyle \\left[\\begin{matrix}q_{w} & - q_{x} & - q_{y} & - q_{z}\\\\q_{x} & q_{w} & q_{z} & - q_{y}\\\\q_{y} & - q_{z} & q_{w} & q_{x}\\\\q_{z} & q_{y} & - q_{x} & q_{w}\\end{matrix}\\right]$"
      ],
      "text/plain": [
       "⎡q_w  -qₓ   -q_y  -q_z⎤\n",
       "⎢                     ⎥\n",
       "⎢qₓ   q_w   q_z   -q_y⎥\n",
       "⎢                     ⎥\n",
       "⎢q_y  -q_z  q_w    qₓ ⎥\n",
       "⎢                     ⎥\n",
       "⎣q_z  q_y   -qₓ   q_w ⎦"
      ]
     },
     "metadata": {},
     "output_type": "display_data"
    },
    {
     "name": "stdout",
     "output_type": "stream",
     "text": [
      "[wb]R\n"
     ]
    },
    {
     "data": {
      "text/latex": [
       "$\\displaystyle \\left[\\begin{matrix}0 & - w_{x} & - w_{y} & - w_{z}\\\\w_{x} & 0 & w_{z} & - w_{y}\\\\w_{y} & - w_{z} & 0 & w_{x}\\\\w_{z} & w_{y} & - w_{x} & 0\\end{matrix}\\right]$"
      ],
      "text/plain": [
       "⎡ 0   -wₓ   -w_y  -w_z⎤\n",
       "⎢                     ⎥\n",
       "⎢wₓ    0    w_z   -w_y⎥\n",
       "⎢                     ⎥\n",
       "⎢w_y  -w_z   0     wₓ ⎥\n",
       "⎢                     ⎥\n",
       "⎣w_z  w_y   -wₓ    0  ⎦"
      ]
     },
     "metadata": {},
     "output_type": "display_data"
    },
    {
     "name": "stdout",
     "output_type": "stream",
     "text": [
      "d/dq R*r_B\n"
     ]
    },
    {
     "data": {
      "text/latex": [
       "$\\displaystyle \\left[\\begin{matrix}2 q_{w} r_{x} + 2 q_{y} r_{z} - 2 q_{z} r_{y} & 2 q_{x} r_{x} + 2 q_{y} r_{y} + 2 q_{z} r_{z} & 2 q_{w} r_{z} + 2 q_{x} r_{y} - 2 q_{y} r_{x} & - 2 q_{w} r_{y} + 2 q_{x} r_{z} - 2 q_{z} r_{x}\\\\2 q_{w} r_{y} - 2 q_{x} r_{z} + 2 q_{z} r_{x} & - 2 q_{w} r_{z} - 2 q_{x} r_{y} + 2 q_{y} r_{x} & 2 q_{x} r_{x} + 2 q_{y} r_{y} + 2 q_{z} r_{z} & 2 q_{w} r_{x} + 2 q_{y} r_{z} - 2 q_{z} r_{y}\\\\2 q_{w} r_{z} + 2 q_{x} r_{y} - 2 q_{y} r_{x} & 2 q_{w} r_{y} - 2 q_{x} r_{z} + 2 q_{z} r_{x} & - 2 q_{w} r_{x} - 2 q_{y} r_{z} + 2 q_{z} r_{y} & 2 q_{x} r_{x} + 2 q_{y} r_{y} + 2 q_{z} r_{z}\\end{matrix}\\right]$"
      ],
      "text/plain": [
       "⎡2⋅q_w⋅rₓ + 2⋅q_y⋅r_z - 2⋅q_z⋅r_y  2⋅qₓ⋅rₓ + 2⋅q_y⋅r_y + 2⋅q_z⋅r_z    2⋅q_w⋅r_\n",
       "⎢                                                                             \n",
       "⎢2⋅q_w⋅r_y - 2⋅qₓ⋅r_z + 2⋅q_z⋅rₓ   -2⋅q_w⋅r_z - 2⋅qₓ⋅r_y + 2⋅q_y⋅rₓ   2⋅qₓ⋅rₓ \n",
       "⎢                                                                             \n",
       "⎣2⋅q_w⋅r_z + 2⋅qₓ⋅r_y - 2⋅q_y⋅rₓ   2⋅q_w⋅r_y - 2⋅qₓ⋅r_z + 2⋅q_z⋅rₓ   -2⋅q_w⋅rₓ\n",
       "\n",
       "z + 2⋅qₓ⋅r_y - 2⋅q_y⋅rₓ   -2⋅q_w⋅r_y + 2⋅qₓ⋅r_z - 2⋅q_z⋅rₓ⎤\n",
       "                                                          ⎥\n",
       "+ 2⋅q_y⋅r_y + 2⋅q_z⋅r_z   2⋅q_w⋅rₓ + 2⋅q_y⋅r_z - 2⋅q_z⋅r_y⎥\n",
       "                                                          ⎥\n",
       " - 2⋅q_y⋅r_z + 2⋅q_z⋅r_y  2⋅qₓ⋅rₓ + 2⋅q_y⋅r_y + 2⋅q_z⋅r_z ⎦"
      ]
     },
     "metadata": {},
     "output_type": "display_data"
    }
   ],
   "source": [
    "print('dcm')\n",
    "display( quat2dcm(q_toLfromB) )\n",
    "print('[q]L')\n",
    "display( skew4Left(q_toLfromB) )\n",
    "print('[q]R')\n",
    "display( skew4Right(q_toLfromB) )\n",
    "print('[wb]R')\n",
    "display( skew4Right(wMeas) )\n",
    "r_B = Matrix([rx,ry,rz])\n",
    "print('d/dq R*r_B')\n",
    "display(dRotdq(q_toLfromB, r_B))"
   ]
  },
  {
   "cell_type": "markdown",
   "metadata": {},
   "source": [
    "# Extended Kalman Filter Equations\n",
    "\n",
    "## State Equations\n",
    "\n",
    "For the Linear Kalman filter we have the following for the process and measurment models:\n",
    "\n",
    "$$\\begin{aligned}\\dot{\\mathbf x} &= \\mathbf{Ax} + w_x\\\\\n",
    "\\mathbf z &= \\mathbf{Hx} + w_z\n",
    "\\end{aligned}$$\n",
    "\n",
    "Where $\\mathbf A$ is the systems dynamic matrix. Using the state space methodsthese equations can be transformed into:\n",
    "$$\\begin{aligned}\\bar{\\mathbf x} &= \\mathbf{Fx} \\\\\n",
    "\\mathbf z &= \\mathbf{Hx}\n",
    "\\end{aligned}$$\n",
    "\n",
    "For the nonlinear model the linear expression $\\mathbf{Fx} + \\mathbf{Bu}$ is replaced by a nonlinear function $f(\\mathbf x, \\mathbf u)$, and the linear expression $\\mathbf{Hx}$ is replaced by a nonlinear function $h(\\mathbf x)$:\n",
    "\n",
    "$$\\begin{aligned}\\dot{\\mathbf x} &= f(\\mathbf x, \\mathbf u) + w_x\\\\\n",
    "\\mathbf z &= h(\\mathbf x) + w_z\n",
    "\\end{aligned}$$\n",
    "\n",
    "The EKF doesn't alter the Kalman Filter's linear equations. Instead, it *linearizes* the nonlinear equations at the point of the current estimate. The system is linearized by using the jacobian.\n",
    "\n",
    "$$\n",
    "\\begin{aligned}\n",
    "\\mathbf F \n",
    "&= {\\frac{\\partial{f(\\mathbf x_t, \\mathbf u_t)}}{\\partial{\\mathbf x}}}\\biggr|_{{\\mathbf x_t},{\\mathbf u_t}} \\\\\n",
    "\\mathbf H &= \\frac{\\partial{h(\\bar{\\mathbf x}_t)}}{\\partial{\\bar{\\mathbf x}}}\\biggr|_{\\bar{\\mathbf x}_t} \n",
    "\\end{aligned}\n",
    "$$\n",
    "\n",
    " \n",
    "## Summary of Linear and Nonlinear Kalman Filter Equations\n",
    "\n",
    "\n",
    "$$\\begin{array}{l|l}\n",
    "\\text{Linear Kalman filter} & \\text{EKF} \\\\\n",
    "\\hline \n",
    "& \\boxed{\\mathbf F = {\\frac{\\partial{f(\\mathbf x_t, \\mathbf u_t)}}{\\partial{\\mathbf x}}}\\biggr|_{{\\mathbf x_t},{\\mathbf u_t}}} \\\\\n",
    "\\mathbf{\\bar x} = \\mathbf{Fx} + \\mathbf{Bu} & \\boxed{\\mathbf{\\bar x} = f(\\mathbf x, \\mathbf u)}  \\\\\n",
    "\\mathbf{\\bar P} = \\mathbf{FPF}^\\mathsf{T}+\\mathbf Q  & \\mathbf{\\bar P} = \\mathbf{FPF}^\\mathsf{T}+\\mathbf Q \\\\\n",
    "\\hline\n",
    "& \\boxed{\\mathbf H = \\frac{\\partial{h(\\bar{\\mathbf x}_t)}}{\\partial{\\bar{\\mathbf x}}}\\biggr|_{\\bar{\\mathbf x}_t}} \\\\\n",
    "\\textbf{y} = \\mathbf z - \\mathbf{H \\bar{x}} & \\textbf{y} = \\mathbf z - \\boxed{h(\\bar{x})}\\\\\n",
    "\\mathbf{K} = \\mathbf{\\bar{P}H}^\\mathsf{T} (\\mathbf{H\\bar{P}H}^\\mathsf{T} + \\mathbf R)^{-1} & \\mathbf{K} = \\mathbf{\\bar{P}H}^\\mathsf{T} (\\mathbf{H\\bar{P}H}^\\mathsf{T} + \\mathbf R)^{-1} \\\\\n",
    "\\mathbf x=\\mathbf{\\bar{x}} +\\mathbf{K\\textbf{y}} & \\mathbf x=\\mathbf{\\bar{x}} +\\mathbf{K\\textbf{y}} \\\\\n",
    "\\mathbf P= (\\mathbf{I}-\\mathbf{KH})\\mathbf{\\bar{P}} & \\mathbf P= (\\mathbf{I}-\\mathbf{KH})\\mathbf{\\bar{P}}\n",
    "\\end{array}$$\n",
    "\n",
    "\n",
    "\n",
    "\n",
    "\n",
    "## Measurment Model \n",
    "\n",
    "The measurment model jacobian should be (N_measurments, N_states)\n",
    "\n",
    "$$\n",
    "\\mathbf H = \\frac{\\partial{h(\\bar{\\mathbf x})}}{\\partial{\\bar{\\mathbf x}}}\\biggr|_{\\bar{\\mathbf x}_t} = \n",
    "\\begin{bmatrix}\n",
    "\\frac{\\partial h_1}{\\partial x_1} & \\frac{\\partial h_1}{\\partial x_2} &\\dots \\\\\n",
    "\\frac{\\partial h_2}{\\partial x_1} & \\frac{\\partial h_2}{\\partial x_2} &\\dots \\\\\n",
    "\\vdots & \\vdots\n",
    "\\end{bmatrix}\n",
    "$$\n",
    "\n"
   ]
  },
  {
   "cell_type": "markdown",
   "metadata": {},
   "source": [
    "# Constant Acceleration Model\n",
    "\n",
    "Lets start by looking at the constant acceleration model. This will let us estimate the position and veloctiy from accleration measurments from an IMU. Here we assume the IMU axes are fixed in orientation and align with the world coordinate frame.\n",
    "\n",
    "## State and Measurmen Models\n",
    "\n",
    "Constant acceleration model with acceleration as input and position sensor (GPS) measurements\n"
   ]
  },
  {
   "cell_type": "code",
   "execution_count": 14,
   "metadata": {},
   "outputs": [
    {
     "name": "stdout",
     "output_type": "stream",
     "text": [
      "State vector (X)\n"
     ]
    },
    {
     "data": {
      "text/latex": [
       "$\\displaystyle \\left[\\begin{matrix}r_{x}\\\\r_{y}\\\\r_{z}\\\\v_{x}\\\\v_{y}\\\\v_{z}\\end{matrix}\\right]$"
      ],
      "text/plain": [
       "⎡rₓ ⎤\n",
       "⎢   ⎥\n",
       "⎢r_y⎥\n",
       "⎢   ⎥\n",
       "⎢r_z⎥\n",
       "⎢   ⎥\n",
       "⎢vₓ ⎥\n",
       "⎢   ⎥\n",
       "⎢v_y⎥\n",
       "⎢   ⎥\n",
       "⎣v_z⎦"
      ]
     },
     "metadata": {},
     "output_type": "display_data"
    },
    {
     "data": {
      "text/latex": [
       "$\\displaystyle \\left( 6, \\  1\\right)$"
      ],
      "text/plain": [
       "(6, 1)"
      ]
     },
     "metadata": {},
     "output_type": "display_data"
    },
    {
     "name": "stdout",
     "output_type": "stream",
     "text": [
      "State transition model (fx)\n"
     ]
    },
    {
     "data": {
      "text/latex": [
       "$\\displaystyle \\left[\\begin{matrix}0.5 T^{2} a_{x} + T v_{x} + e_{r x} + r_{x}\\\\0.5 T^{2} a_{y} + T v_{y} + e_{r y} + r_{y}\\\\0.5 T^{2} a_{z} + T v_{z} + e_{r z} + r_{z}\\\\T a_{x} + e_{v x} + v_{x}\\\\T a_{y} + e_{v y} + v_{y}\\\\T a_{z} + e_{v z} + v_{z}\\end{matrix}\\right]$"
      ],
      "text/plain": [
       "⎡       2                        ⎤\n",
       "⎢  0.5⋅T ⋅aₓ + T⋅vₓ + eᵣ ₓ + rₓ  ⎥\n",
       "⎢                                ⎥\n",
       "⎢     2                          ⎥\n",
       "⎢0.5⋅T ⋅a_y + T⋅v_y + e_r_y + r_y⎥\n",
       "⎢                                ⎥\n",
       "⎢     2                          ⎥\n",
       "⎢0.5⋅T ⋅a_z + T⋅v_z + e_r_z + r_z⎥\n",
       "⎢                                ⎥\n",
       "⎢        T⋅aₓ + eᵥ ₓ + vₓ        ⎥\n",
       "⎢                                ⎥\n",
       "⎢      T⋅a_y + e_v_y + v_y       ⎥\n",
       "⎢                                ⎥\n",
       "⎣      T⋅a_z + e_v_z + v_z       ⎦"
      ]
     },
     "metadata": {},
     "output_type": "display_data"
    },
    {
     "data": {
      "text/latex": [
       "$\\displaystyle \\left( 6, \\  1\\right)$"
      ],
      "text/plain": [
       "(6, 1)"
      ]
     },
     "metadata": {},
     "output_type": "display_data"
    },
    {
     "name": "stdout",
     "output_type": "stream",
     "text": [
      "Measurment function (hx)\n"
     ]
    },
    {
     "data": {
      "text/latex": [
       "$\\displaystyle \\left[\\begin{matrix}r_{x}\\\\r_{y}\\\\r_{z}\\\\0\\\\0\\\\0\\end{matrix}\\right]$"
      ],
      "text/plain": [
       "⎡rₓ ⎤\n",
       "⎢   ⎥\n",
       "⎢r_y⎥\n",
       "⎢   ⎥\n",
       "⎢r_z⎥\n",
       "⎢   ⎥\n",
       "⎢ 0 ⎥\n",
       "⎢   ⎥\n",
       "⎢ 0 ⎥\n",
       "⎢   ⎥\n",
       "⎣ 0 ⎦"
      ]
     },
     "metadata": {},
     "output_type": "display_data"
    },
    {
     "data": {
      "text/latex": [
       "$\\displaystyle \\left( 6, \\  1\\right)$"
      ],
      "text/plain": [
       "(6, 1)"
      ]
     },
     "metadata": {},
     "output_type": "display_data"
    }
   ],
   "source": [
    "# Time step\n",
    "t = symbols('T')\n",
    "rx,ry,rz,vx,vy,vz,ax,ay,az = symbols('r_x r_y r_z v_x v_y v_z a_x a_y a_z')\n",
    "erx,ery,erz,evx,evy,evz = symbols('e_r_x e_r_y e_r_z e_v_x e_v_y e_v_z')\n",
    "\n",
    "eVec = Matrix([\n",
    "    er,\n",
    "    ev\n",
    "])\n",
    "\n",
    "r_L = Matrix([rx,ry,rz])\n",
    "v_L = Matrix([vx,vy,vz])\n",
    "a_L = Matrix([ax,ay,az])\n",
    "er  = Matrix([erx,ery,erz])\n",
    "ev  = Matrix([evx,evy,evz])\n",
    "\n",
    "X = Matrix([\n",
    "    r_L,\n",
    "    v_L,\n",
    "])\n",
    "\n",
    "# State transition model\n",
    "fx_r = r_L + v_L*t + 1/2*a_L*t**2 + er\n",
    "fx_v = v_L + a_L*t + ev\n",
    "\n",
    "fx = Matrix([\n",
    "    fx_r,\n",
    "    fx_v,\n",
    "])\n",
    "\n",
    "# Measurment Model\n",
    "hx_r = r_L\n",
    "hx_v = Matrix.zeros(3,1)\n",
    "\n",
    "hx = Matrix([\n",
    "    hx_r,\n",
    "    hx_v,\n",
    "])\n",
    "\n",
    "# Display\n",
    "print('State vector (X)')\n",
    "display(X,X.shape)\n",
    "print('State transition model (fx)')\n",
    "display(fx,fx.shape)\n",
    "print('Measurment function (hx)')\n",
    "display(hx,hx.shape)"
   ]
  },
  {
   "cell_type": "markdown",
   "metadata": {},
   "source": [
    "## State and Measurment Jacobians\n",
    "\n",
    "Determine the jacobian of rhte state and measurment models to implement the EKF for nonlinear systems."
   ]
  },
  {
   "cell_type": "code",
   "execution_count": 18,
   "metadata": {},
   "outputs": [
    {
     "name": "stdout",
     "output_type": "stream",
     "text": [
      "State model jacobian (dfdx)\n"
     ]
    },
    {
     "data": {
      "text/latex": [
       "$\\displaystyle \\left[\\begin{matrix}1 & 0 & 0 & T & 0 & 0\\\\0 & 1 & 0 & 0 & T & 0\\\\0 & 0 & 1 & 0 & 0 & T\\\\0 & 0 & 0 & 1 & 0 & 0\\\\0 & 0 & 0 & 0 & 1 & 0\\\\0 & 0 & 0 & 0 & 0 & 1\\end{matrix}\\right]$"
      ],
      "text/plain": [
       "⎡1  0  0  T  0  0⎤\n",
       "⎢                ⎥\n",
       "⎢0  1  0  0  T  0⎥\n",
       "⎢                ⎥\n",
       "⎢0  0  1  0  0  T⎥\n",
       "⎢                ⎥\n",
       "⎢0  0  0  1  0  0⎥\n",
       "⎢                ⎥\n",
       "⎢0  0  0  0  1  0⎥\n",
       "⎢                ⎥\n",
       "⎣0  0  0  0  0  1⎦"
      ]
     },
     "metadata": {},
     "output_type": "display_data"
    },
    {
     "data": {
      "text/latex": [
       "$\\displaystyle \\left( 6, \\  6\\right)$"
      ],
      "text/plain": [
       "(6, 6)"
      ]
     },
     "metadata": {},
     "output_type": "display_data"
    },
    {
     "name": "stdout",
     "output_type": "stream",
     "text": [
      "Measurment model jacobian (dhdx)\n"
     ]
    },
    {
     "data": {
      "text/latex": [
       "$\\displaystyle \\left[\\begin{matrix}1 & 0 & 0 & 0 & 0 & 0\\\\0 & 1 & 0 & 0 & 0 & 0\\\\0 & 0 & 1 & 0 & 0 & 0\\\\0 & 0 & 0 & 0 & 0 & 0\\\\0 & 0 & 0 & 0 & 0 & 0\\\\0 & 0 & 0 & 0 & 0 & 0\\end{matrix}\\right]$"
      ],
      "text/plain": [
       "⎡1  0  0  0  0  0⎤\n",
       "⎢                ⎥\n",
       "⎢0  1  0  0  0  0⎥\n",
       "⎢                ⎥\n",
       "⎢0  0  1  0  0  0⎥\n",
       "⎢                ⎥\n",
       "⎢0  0  0  0  0  0⎥\n",
       "⎢                ⎥\n",
       "⎢0  0  0  0  0  0⎥\n",
       "⎢                ⎥\n",
       "⎣0  0  0  0  0  0⎦"
      ]
     },
     "metadata": {},
     "output_type": "display_data"
    },
    {
     "data": {
      "text/latex": [
       "$\\displaystyle \\left( 6, \\  6\\right)$"
      ],
      "text/plain": [
       "(6, 6)"
      ]
     },
     "metadata": {},
     "output_type": "display_data"
    },
    {
     "name": "stdout",
     "output_type": "stream",
     "text": [
      "G (dfde)\n"
     ]
    },
    {
     "data": {
      "text/latex": [
       "$\\displaystyle \\left[\\begin{matrix}1 & 0 & 0 & 0 & 0 & 0\\\\0 & 1 & 0 & 0 & 0 & 0\\\\0 & 0 & 1 & 0 & 0 & 0\\\\0 & 0 & 0 & 1 & 0 & 0\\\\0 & 0 & 0 & 0 & 1 & 0\\\\0 & 0 & 0 & 0 & 0 & 1\\end{matrix}\\right]$"
      ],
      "text/plain": [
       "⎡1  0  0  0  0  0⎤\n",
       "⎢                ⎥\n",
       "⎢0  1  0  0  0  0⎥\n",
       "⎢                ⎥\n",
       "⎢0  0  1  0  0  0⎥\n",
       "⎢                ⎥\n",
       "⎢0  0  0  1  0  0⎥\n",
       "⎢                ⎥\n",
       "⎢0  0  0  0  1  0⎥\n",
       "⎢                ⎥\n",
       "⎣0  0  0  0  0  1⎦"
      ]
     },
     "metadata": {},
     "output_type": "display_data"
    },
    {
     "data": {
      "text/latex": [
       "$\\displaystyle \\left( 6, \\  6\\right)$"
      ],
      "text/plain": [
       "(6, 6)"
      ]
     },
     "metadata": {},
     "output_type": "display_data"
    }
   ],
   "source": [
    "# State model jacobian\n",
    "dfdx = fx.jacobian(X)\n",
    "\n",
    "dfde = fx.jacobian(eVec)\n",
    "\n",
    "# Measurment model jacobian\n",
    "dhdx = hx.jacobian(X)\n",
    "\n",
    "# Display\n",
    "print('State model jacobian (dfdx)')\n",
    "display(dfdx,dfdx.shape)\n",
    "print('Measurment model jacobian (dhdx)')\n",
    "display(dhdx,dhdx.shape)\n",
    "print('G (dfde)')\n",
    "display(dfde,dfde.shape)"
   ]
  },
  {
   "cell_type": "markdown",
   "metadata": {},
   "source": [
    "# Predict\n",
    "## State Transition"
   ]
  },
  {
   "cell_type": "code",
   "execution_count": 8,
   "metadata": {},
   "outputs": [
    {
     "ename": "NonSquareMatrixError",
     "evalue": "",
     "output_type": "error",
     "traceback": [
      "\u001b[0;31m---------------------------------------------------------------------------\u001b[0m",
      "\u001b[0;31mNonSquareMatrixError\u001b[0m                      Traceback (most recent call last)",
      "\u001b[0;32m<ipython-input-8-f26b20614b7a>\u001b[0m in \u001b[0;36m<module>\u001b[0;34m\u001b[0m\n\u001b[1;32m     12\u001b[0m \u001b[0ma_L\u001b[0m  \u001b[0;34m=\u001b[0m \u001b[0mqRot\u001b[0m\u001b[0;34m(\u001b[0m\u001b[0mq_toLfromB\u001b[0m\u001b[0;34m,\u001b[0m \u001b[0ma_B\u001b[0m\u001b[0;34m)\u001b[0m \u001b[0;34m-\u001b[0m \u001b[0mg_L\u001b[0m\u001b[0;34m\u001b[0m\u001b[0;34m\u001b[0m\u001b[0m\n\u001b[1;32m     13\u001b[0m \u001b[0;34m\u001b[0m\u001b[0m\n\u001b[0;32m---> 14\u001b[0;31m \u001b[0mfx_r\u001b[0m \u001b[0;34m=\u001b[0m \u001b[0mr_L\u001b[0m \u001b[0;34m+\u001b[0m \u001b[0mv_L\u001b[0m\u001b[0;34m*\u001b[0m\u001b[0mt\u001b[0m \u001b[0;34m+\u001b[0m \u001b[0;36m1\u001b[0m\u001b[0;34m/\u001b[0m\u001b[0;36m2\u001b[0m\u001b[0;34m*\u001b[0m\u001b[0ma_L\u001b[0m\u001b[0;34m**\u001b[0m\u001b[0;36m2\u001b[0m\u001b[0;34m\u001b[0m\u001b[0;34m\u001b[0m\u001b[0m\n\u001b[0m\u001b[1;32m     15\u001b[0m \u001b[0mfx_v\u001b[0m \u001b[0;34m=\u001b[0m \u001b[0mv_L\u001b[0m \u001b[0;34m+\u001b[0m \u001b[0ma_L\u001b[0m\u001b[0;34m*\u001b[0m\u001b[0mt\u001b[0m\u001b[0;34m\u001b[0m\u001b[0;34m\u001b[0m\u001b[0m\n\u001b[1;32m     16\u001b[0m \u001b[0mfx_q\u001b[0m \u001b[0;34m=\u001b[0m \u001b[0;34m(\u001b[0m\u001b[0meye\u001b[0m\u001b[0;34m(\u001b[0m\u001b[0;36m4\u001b[0m\u001b[0;34m)\u001b[0m \u001b[0;34m+\u001b[0m \u001b[0mt\u001b[0m\u001b[0;34m/\u001b[0m\u001b[0;36m2\u001b[0m\u001b[0;34m*\u001b[0m\u001b[0mskew4Right\u001b[0m\u001b[0;34m(\u001b[0m\u001b[0mwMeas\u001b[0m\u001b[0;34m-\u001b[0m\u001b[0mgyroBias\u001b[0m\u001b[0;34m)\u001b[0m\u001b[0;34m)\u001b[0m\u001b[0;34m*\u001b[0m\u001b[0mq_toLfromB\u001b[0m\u001b[0;34m\u001b[0m\u001b[0;34m\u001b[0m\u001b[0m\n",
      "\u001b[0;32m~/.local/lib/python3.8/site-packages/sympy/core/decorators.py\u001b[0m in \u001b[0;36mbinary_op_wrapper\u001b[0;34m(self, other)\u001b[0m\n\u001b[1;32m    135\u001b[0m                     \u001b[0;32mif\u001b[0m \u001b[0mf\u001b[0m \u001b[0;32mis\u001b[0m \u001b[0;32mnot\u001b[0m \u001b[0;32mNone\u001b[0m\u001b[0;34m:\u001b[0m\u001b[0;34m\u001b[0m\u001b[0;34m\u001b[0m\u001b[0m\n\u001b[1;32m    136\u001b[0m                         \u001b[0;32mreturn\u001b[0m \u001b[0mf\u001b[0m\u001b[0;34m(\u001b[0m\u001b[0mself\u001b[0m\u001b[0;34m)\u001b[0m\u001b[0;34m\u001b[0m\u001b[0;34m\u001b[0m\u001b[0m\n\u001b[0;32m--> 137\u001b[0;31m             \u001b[0;32mreturn\u001b[0m \u001b[0mfunc\u001b[0m\u001b[0;34m(\u001b[0m\u001b[0mself\u001b[0m\u001b[0;34m,\u001b[0m \u001b[0mother\u001b[0m\u001b[0;34m)\u001b[0m\u001b[0;34m\u001b[0m\u001b[0;34m\u001b[0m\u001b[0m\n\u001b[0m\u001b[1;32m    138\u001b[0m         \u001b[0;32mreturn\u001b[0m \u001b[0mbinary_op_wrapper\u001b[0m\u001b[0;34m\u001b[0m\u001b[0;34m\u001b[0m\u001b[0m\n\u001b[1;32m    139\u001b[0m     \u001b[0;32mreturn\u001b[0m \u001b[0mpriority_decorator\u001b[0m\u001b[0;34m\u001b[0m\u001b[0;34m\u001b[0m\u001b[0m\n",
      "\u001b[0;32m~/.local/lib/python3.8/site-packages/sympy/matrices/common.py\u001b[0m in \u001b[0;36m__pow__\u001b[0;34m(self, exp)\u001b[0m\n\u001b[1;32m   2683\u001b[0m         \u001b[0;34m\"\"\"Return self**exp a scalar or symbol.\"\"\"\u001b[0m\u001b[0;34m\u001b[0m\u001b[0;34m\u001b[0m\u001b[0m\n\u001b[1;32m   2684\u001b[0m \u001b[0;34m\u001b[0m\u001b[0m\n\u001b[0;32m-> 2685\u001b[0;31m         \u001b[0;32mreturn\u001b[0m \u001b[0mself\u001b[0m\u001b[0;34m.\u001b[0m\u001b[0mpow\u001b[0m\u001b[0;34m(\u001b[0m\u001b[0mexp\u001b[0m\u001b[0;34m)\u001b[0m\u001b[0;34m\u001b[0m\u001b[0;34m\u001b[0m\u001b[0m\n\u001b[0m\u001b[1;32m   2686\u001b[0m \u001b[0;34m\u001b[0m\u001b[0m\n\u001b[1;32m   2687\u001b[0m \u001b[0;34m\u001b[0m\u001b[0m\n",
      "\u001b[0;32m~/.local/lib/python3.8/site-packages/sympy/matrices/common.py\u001b[0m in \u001b[0;36mpow\u001b[0;34m(self, exp, method)\u001b[0m\n\u001b[1;32m   2708\u001b[0m             \u001b[0;32mraise\u001b[0m \u001b[0mTypeError\u001b[0m\u001b[0;34m(\u001b[0m\u001b[0;34m'No such method'\u001b[0m\u001b[0;34m)\u001b[0m\u001b[0;34m\u001b[0m\u001b[0;34m\u001b[0m\u001b[0m\n\u001b[1;32m   2709\u001b[0m         \u001b[0;32mif\u001b[0m \u001b[0mself\u001b[0m\u001b[0;34m.\u001b[0m\u001b[0mrows\u001b[0m \u001b[0;34m!=\u001b[0m \u001b[0mself\u001b[0m\u001b[0;34m.\u001b[0m\u001b[0mcols\u001b[0m\u001b[0;34m:\u001b[0m\u001b[0;34m\u001b[0m\u001b[0;34m\u001b[0m\u001b[0m\n\u001b[0;32m-> 2710\u001b[0;31m             \u001b[0;32mraise\u001b[0m \u001b[0mNonSquareMatrixError\u001b[0m\u001b[0;34m(\u001b[0m\u001b[0;34m)\u001b[0m\u001b[0;34m\u001b[0m\u001b[0;34m\u001b[0m\u001b[0m\n\u001b[0m\u001b[1;32m   2711\u001b[0m         \u001b[0ma\u001b[0m \u001b[0;34m=\u001b[0m \u001b[0mself\u001b[0m\u001b[0;34m\u001b[0m\u001b[0;34m\u001b[0m\u001b[0m\n\u001b[1;32m   2712\u001b[0m         \u001b[0mjordan_pow\u001b[0m \u001b[0;34m=\u001b[0m \u001b[0mgetattr\u001b[0m\u001b[0;34m(\u001b[0m\u001b[0ma\u001b[0m\u001b[0;34m,\u001b[0m \u001b[0;34m'_matrix_pow_by_jordan_blocks'\u001b[0m\u001b[0;34m,\u001b[0m \u001b[0;32mNone\u001b[0m\u001b[0;34m)\u001b[0m\u001b[0;34m\u001b[0m\u001b[0;34m\u001b[0m\u001b[0m\n",
      "\u001b[0;31mNonSquareMatrixError\u001b[0m: "
     ]
    }
   ],
   "source": [
    "X = Matrix([\n",
    "    r_L,\n",
    "    v_L,\n",
    "    q_toLfromB,\n",
    "    #gyroBias,\n",
    "    #accelBias\n",
    "])\n",
    "\n",
    "N_state = len(X)\n",
    "\n",
    "a_B = accelMeas-accelBias\n",
    "a_L  = qRot(q_toLfromB, a_B) - g_L\n",
    "\n",
    "fx_r = r_L + v_L*t + 1/2*a_L**2\n",
    "fx_v = v_L + a_L*t\n",
    "fx_q = (eye(4) + t/2*skew4Right(wMeas-gyroBias))*q_toLfromB\n",
    "#fx_gB = eye(3) * gyroBias\n",
    "#fx_aB = eye(3) * accelBias\n",
    "\n",
    "\n",
    "fx = Matrix([\n",
    "    fx_r,\n",
    "    fx_v,\n",
    "    fx_q,\n",
    "    #fx_gB,\n",
    "    #fx_aB\n",
    "       ])\n",
    "\n",
    "\n",
    "print('X')\n",
    "display(X)\n",
    "print(X.shape)\n",
    "print('fx')\n",
    "display(fx)\n",
    "print(fx.shape)\n",
    "\n",
    "\n",
    "\n"
   ]
  },
  {
   "cell_type": "markdown",
   "metadata": {},
   "source": [
    "## State Transition Jacobian"
   ]
  },
  {
   "cell_type": "code",
   "execution_count": null,
   "metadata": {},
   "outputs": [],
   "source": [
    "dfdx = fx.jacobian(X)\n",
    "\n",
    "print('dfdx')\n",
    "display(dfdx)\n",
    "print(dfdx.shape)"
   ]
  },
  {
   "cell_type": "code",
   "execution_count": null,
   "metadata": {},
   "outputs": [],
   "source": [
    "qv = Matrix([q_toLfromB[1:]]).T\n",
    "QF = Matrix([\n",
    "    [qv, qw*eye(3)+skew3(qv)]\n",
    "])\n",
    "dvdq = 2*QF*Matrix([\n",
    "                [zeros(1),a_B.T],\n",
    "                [a_B, -skew3(a_B)]\n",
    "])\n",
    "\n",
    "C_toLfromB = quat2dcm(q_toLfromB)\n",
    "box = Matrix([\n",
    "    [-qv.T],\n",
    "    [qw*eye(3) + skew3(qv)]\n",
    "])\n",
    "\n",
    "\n",
    "dfdx = Matrix([\n",
    "    [zeros(3), eye(3), zeros(3,4),zeros(3),zeros(3)],\n",
    "    [zeros(3), zeros(3), dvdq, zeros(3), -C_toLfromB ],\n",
    "    [zeros(4,3), zeros(4,3), 1/2*skew4Right(wMeas-gyroBias), -1/2*box, zeros(4,3)],\n",
    "    #[zeros(3),zeros(3),zeros(3,4),zeros(3),zeros(3)],\n",
    "    #[zeros(3),zeros(3),zeros(3,4),zeros(3),zeros(3)]    \n",
    "])\n",
    "dfdx = dfdx * t + eye(N_state)\n",
    "\n",
    "print('dfdx')\n",
    "display(dfdx)\n",
    "mprint(dfdx)\n",
    "print(dfdx.shape)\n"
   ]
  },
  {
   "cell_type": "markdown",
   "metadata": {},
   "source": [
    "## Process Noise"
   ]
  },
  {
   "cell_type": "code",
   "execution_count": null,
   "metadata": {},
   "outputs": [],
   "source": [
    "Q_r  = (wa*t**2)**2 * eye(3)\n",
    "Q_v  = (wa*t)**2 * eye(3)\n",
    "Q_q  = (ww*t/2)**2 *Matrix([\n",
    "    [1-qw**2,  -qx*qw,  -qy*qw,  -qz*qw],\n",
    "    [ -qw*qx, 1-qx**2,  -qy*qx,  -qz*qx],\n",
    "    [ -qw*qy,  -qx*qy, 1-qy**2,  -qz*qy],\n",
    "    [ -qw*qz,  -qx*qz,  -qy*qz, 1-qz**2]\n",
    "])\n",
    "Q_gB = (wgB*t)**2 * eye(3)\n",
    "Q_aB = (waB*t)**2 * eye(3)\n",
    "\n",
    "Q = Matrix([\n",
    "    [Q_r, zeros(3), zeros(3,4), zeros(3), zeros(3)],\n",
    "    [zeros(3), Q_v, zeros(3,4), zeros(3), zeros(3)],\n",
    "    [zeros(4,3), zeros(4,3), Q_q, zeros(4,3), zeros(4,3)],\n",
    "    [zeros(3), zeros(3), zeros(3,4), Q_gB, zeros(3)],\n",
    "    [zeros(3), zeros(3), zeros(3,4), zeros(3), Q_aB],\n",
    "    \n",
    "])\n",
    "\n",
    "print('Q')\n",
    "display(Q)\n",
    "print(Q.shape)\n",
    "\n",
    "\n",
    "#print('Q_r')\n",
    "#display(Q_r)\n",
    "#print('Q_v')\n",
    "#display(Q_v)\n",
    "#print('Q_q')\n",
    "#display(Q_q)\n",
    "#print('Q_gB')\n",
    "#display(Q_gB)\n",
    "#print('Q_aB')\n",
    "#display(Q_aB)"
   ]
  },
  {
   "cell_type": "markdown",
   "metadata": {},
   "source": [
    "# Update"
   ]
  },
  {
   "cell_type": "markdown",
   "metadata": {},
   "source": [
    "## Measurment Function"
   ]
  },
  {
   "cell_type": "code",
   "execution_count": 19,
   "metadata": {},
   "outputs": [
    {
     "name": "stdout",
     "output_type": "stream",
     "text": [
      "hx\n"
     ]
    },
    {
     "data": {
      "text/latex": [
       "$\\displaystyle \\left[\\begin{matrix}- g \\left(- 2 q_{w} q_{y} + 2 q_{x} q_{z}\\right)\\\\- g \\left(2 q_{w} q_{x} + 2 q_{y} q_{z}\\right)\\\\- g \\left(q_{w}^{2} - q_{x}^{2} - q_{y}^{2} + q_{z}^{2}\\right)\\\\m_{x} \\left(q_{w}^{2} + q_{x}^{2} - q_{y}^{2} - q_{z}^{2}\\right)\\\\m_{x} \\left(- 2 q_{w} q_{z} + 2 q_{x} q_{y}\\right)\\\\m_{x} \\left(2 q_{w} q_{y} + 2 q_{x} q_{z}\\right)\\end{matrix}\\right]$"
      ],
      "text/plain": [
       "⎡ -g⋅(-2⋅q_w⋅q_y + 2⋅qₓ⋅q_z)  ⎤\n",
       "⎢                             ⎥\n",
       "⎢  -g⋅(2⋅q_w⋅qₓ + 2⋅q_y⋅q_z)  ⎥\n",
       "⎢                             ⎥\n",
       "⎢   ⎛   2     2      2      2⎞⎥\n",
       "⎢-g⋅⎝q_w  - qₓ  - q_y  + q_z ⎠⎥\n",
       "⎢                             ⎥\n",
       "⎢   ⎛   2     2      2      2⎞⎥\n",
       "⎢mₓ⋅⎝q_w  + qₓ  - q_y  - q_z ⎠⎥\n",
       "⎢                             ⎥\n",
       "⎢ mₓ⋅(-2⋅q_w⋅q_z + 2⋅qₓ⋅q_y)  ⎥\n",
       "⎢                             ⎥\n",
       "⎣  mₓ⋅(2⋅q_w⋅q_y + 2⋅qₓ⋅q_z)  ⎦"
      ]
     },
     "metadata": {},
     "output_type": "display_data"
    },
    {
     "data": {
      "text/latex": [
       "$\\displaystyle \\left[\\begin{matrix}m_{x}\\\\0\\\\0\\end{matrix}\\right]$"
      ],
      "text/plain": [
       "⎡mₓ⎤\n",
       "⎢  ⎥\n",
       "⎢0 ⎥\n",
       "⎢  ⎥\n",
       "⎣0 ⎦"
      ]
     },
     "metadata": {},
     "output_type": "display_data"
    }
   ],
   "source": [
    "hx_accel = -qRot(quatConj(q_toLfromB), g_L)\n",
    "hx_mag   =  qRot(quatConj(q_toLfromB), B_L)\n",
    "hx = Matrix([\n",
    "    hx_accel,\n",
    "    hx_mag,\n",
    "])\n",
    "\n",
    "print('hx')\n",
    "display(hx)\n",
    "display(B_L)"
   ]
  },
  {
   "cell_type": "markdown",
   "metadata": {},
   "source": [
    "## Measurment Function Jacobian"
   ]
  },
  {
   "cell_type": "code",
   "execution_count": 20,
   "metadata": {},
   "outputs": [
    {
     "name": "stdout",
     "output_type": "stream",
     "text": [
      "dhdx\n"
     ]
    },
    {
     "data": {
      "text/latex": [
       "$\\displaystyle \\left[\\begin{matrix}0 & 0 & 0 & 0 & 0 & 0\\\\0 & 0 & 0 & 0 & 0 & 0\\\\0 & 0 & 0 & 0 & 0 & 0\\\\0 & 0 & 0 & 0 & 0 & 0\\\\0 & 0 & 0 & 0 & 0 & 0\\\\0 & 0 & 0 & 0 & 0 & 0\\end{matrix}\\right]$"
      ],
      "text/plain": [
       "⎡0  0  0  0  0  0⎤\n",
       "⎢                ⎥\n",
       "⎢0  0  0  0  0  0⎥\n",
       "⎢                ⎥\n",
       "⎢0  0  0  0  0  0⎥\n",
       "⎢                ⎥\n",
       "⎢0  0  0  0  0  0⎥\n",
       "⎢                ⎥\n",
       "⎢0  0  0  0  0  0⎥\n",
       "⎢                ⎥\n",
       "⎣0  0  0  0  0  0⎦"
      ]
     },
     "metadata": {},
     "output_type": "display_data"
    },
    {
     "name": "stdout",
     "output_type": "stream",
     "text": [
      "Matrix([\n",
      "[0, 0, 0, 0, 0, 0],\n",
      "[0, 0, 0, 0, 0, 0],\n",
      "[0, 0, 0, 0, 0, 0],\n",
      "[0, 0, 0, 0, 0, 0],\n",
      "[0, 0, 0, 0, 0, 0],\n",
      "[0, 0, 0, 0, 0, 0]])\n"
     ]
    }
   ],
   "source": [
    "dhdx = hx.jacobian(X)\n",
    "\n",
    "print('dhdx')\n",
    "display(dhdx)\n",
    "mprint(dhdx)\n"
   ]
  },
  {
   "cell_type": "code",
   "execution_count": null,
   "metadata": {},
   "outputs": [],
   "source": [
    " "
   ]
  }
 ],
 "metadata": {
  "kernelspec": {
   "display_name": "Python 3",
   "language": "python",
   "name": "python3"
  },
  "language_info": {
   "codemirror_mode": {
    "name": "ipython",
    "version": 3
   },
   "file_extension": ".py",
   "mimetype": "text/x-python",
   "name": "python",
   "nbconvert_exporter": "python",
   "pygments_lexer": "ipython3",
   "version": "3.8.6"
  }
 },
 "nbformat": 4,
 "nbformat_minor": 4
}
