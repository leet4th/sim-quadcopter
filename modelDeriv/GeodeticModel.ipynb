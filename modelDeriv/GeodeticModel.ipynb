{
 "cells": [
  {
   "cell_type": "code",
   "execution_count": 1,
   "metadata": {},
   "outputs": [],
   "source": [
    "import numpy as np\n",
    "import pyproj"
   ]
  },
  {
   "cell_type": "markdown",
   "metadata": {},
   "source": [
    "Plan is to update simulation to solve in ECEF coordinates and output lla with noise to model GPS.\n",
    "The sim will start with intial lla, and convert to initial ECEF, then solve in ECEF. Finally, output to nav using ecef2lla."
   ]
  },
  {
   "cell_type": "code",
   "execution_count": 2,
   "metadata": {},
   "outputs": [],
   "source": [
    "# ECEF position\n",
    "x = 652954.1006\n",
    "y = 4774619.7919\n",
    "z =-4167647.7937\n",
    "\n",
    "pos = np.array([x,y,z])\n",
    "\n",
    "# Expected lla \n",
    "# lat  -41.0445318235 deg\n",
    "# lon   82.2128095674 deg\n",
    "# alt 2274.39966936"
   ]
  },
  {
   "cell_type": "code",
   "execution_count": 3,
   "metadata": {},
   "outputs": [],
   "source": [
    "ecef = pyproj.Proj(proj='geocent', ellps='WGS84', datum='WGS84')\n",
    "lla = pyproj.Proj(proj='latlong', ellps='WGS84', datum='WGS84')"
   ]
  },
  {
   "cell_type": "code",
   "execution_count": 4,
   "metadata": {},
   "outputs": [
    {
     "name": "stdout",
     "output_type": "stream",
     "text": [
      "lat = -41.04453182346411\n",
      "lon = 82.2128095673836\n",
      "alt = 2274.399669399485\n",
      "x   =652954.1005999997\n",
      "y   =4774619.791899999\n",
      "z   =-4167647.7937000585\n"
     ]
    }
   ],
   "source": [
    "ecef_2_lla = pyproj.Transformer.from_crs(\n",
    "    {\"proj\":'geocent', \"ellps\":'WGS84', \"datum\":'WGS84'},\n",
    "    {\"proj\":'latlong', \"ellps\":'WGS84', \"datum\":'WGS84'},\n",
    "    )\n",
    "lla_2_ecef = pyproj.Transformer.from_crs(\n",
    "    {\"proj\":'latlong', \"ellps\":'WGS84', \"datum\":'WGS84'},\n",
    "    {\"proj\":'geocent', \"ellps\":'WGS84', \"datum\":'WGS84'},\n",
    "    )\n",
    "lon2, lat2, alt2 = ecef_2_lla.transform(x,y,z,radians=False)\n",
    "x2,y2,z2 = lla_2_ecef.transform(lon2, lat2, alt2,radians=False)\n",
    "\n",
    "print(f\"lat = {lat2}\\nlon = {lon2}\\nalt = {alt2}\")\n",
    "print(f\"x   ={x2}\\ny   ={y2}\\nz   ={z2}\")"
   ]
  },
  {
   "cell_type": "code",
   "execution_count": 5,
   "metadata": {
    "scrolled": true
   },
   "outputs": [],
   "source": [
    "def ecef2lla(pos):\n",
    "    transformer = pyproj.Transformer.from_crs(\n",
    "        {\"proj\":'geocent', \"ellps\":'WGS84', \"datum\":'WGS84'},\n",
    "        {\"proj\":'latlong', \"ellps\":'WGS84', \"datum\":'WGS84'},\n",
    "        )\n",
    "    lon,lat,alt = transformer.transform(pos[0],pos[1],pos[2],\n",
    "                                        radians=False)\n",
    "    return np.array([lat,lon,alt])\n",
    "\n",
    "def lla2ecef(lla):\n",
    "    transformer = pyproj.Transformer.from_crs(\n",
    "        {\"proj\":'latlong', \"ellps\":'WGS84', \"datum\":'WGS84'},\n",
    "        {\"proj\":'geocent', \"ellps\":'WGS84', \"datum\":'WGS84'},\n",
    "        )\n",
    "    # lla (lat, lon, alt)\n",
    "    # transform() expects lon, lat, alt\n",
    "    x,y,z = transformer.transform(lla[1],lla[0],lla[2],\n",
    "                                  radians=False)\n",
    "    return np.array([x,y,z])\n",
    "\n",
    "    "
   ]
  },
  {
   "cell_type": "code",
   "execution_count": 6,
   "metadata": {},
   "outputs": [
    {
     "name": "stdout",
     "output_type": "stream",
     "text": [
      "[ -41.04453182   82.21280957 2274.3996694 ]\n",
      "[  652954.1006      4774619.7919     -4167647.79370006]\n",
      "[ -41.04453182   82.21280957 2274.39966944]\n"
     ]
    }
   ],
   "source": [
    "lla = ecef2lla(pos)\n",
    "pos = lla2ecef(lla)\n",
    "lla2= ecef2lla(pos)\n",
    "print(lla)\n",
    "print(pos)\n",
    "print(lla2)"
   ]
  },
  {
   "cell_type": "markdown",
   "metadata": {},
   "source": [
    "# Process in sim"
   ]
  },
  {
   "cell_type": "code",
   "execution_count": 7,
   "metadata": {},
   "outputs": [
    {
     "name": "stdout",
     "output_type": "stream",
     "text": [
      "Starting Position\n",
      "  lla = [  33 -110 1200]\n",
      "  ecef = [-1831682.44471769 -5032506.15647328  3454612.20801992]\n",
      "GPS Position\n",
      "  gpsPos_L = [-1831683.11871175 -5032505.95410848  3454612.77318759]\n",
      "  gpsLLA   = [  33.00000407 -110.00000752 1200.3416602 ]\n",
      "Nav Position - EKF input\n",
      "  navEcef = [-1831683.11871175 -5032505.95410848  3454612.7731876 ]\n"
     ]
    }
   ],
   "source": [
    "# Initial LLA\n",
    "lat = 33\n",
    "lon = -110\n",
    "alt = 1200 # ft\n",
    "lla = np.array([lat,lon,alt])\n",
    "ecef = lla2ecef(lla)\n",
    "print(f\"Starting Position\")\n",
    "print(f\"  lla = {lla}\")\n",
    "print(f\"  ecef = {ecef}\")\n",
    "\n",
    "# Gps Model Output\n",
    "gpsNoise = 1\n",
    "gpsPos_L = ecef + gpsNoise * np.random.randn(3)\n",
    "gpsLLA = ecef2lla(gpsPos_L)\n",
    "print(f\"GPS Position\")\n",
    "print(f\"  gpsPos_L = {gpsPos_L}\")\n",
    "print(f\"  gpsLLA   = {gpsLLA}\")\n",
    "\n",
    "# NavData - Convert LLA to ECEF prior to EKF\n",
    "navLLA = gpsLLA\n",
    "navEcef = lla2ecef(navLLA)\n",
    "print(\"Nav Position - EKF input\")\n",
    "print(f\"  navEcef = {navEcef}\")\n",
    "\n"
   ]
  },
  {
   "cell_type": "markdown",
   "metadata": {},
   "source": [
    "# GeodeticModel"
   ]
  },
  {
   "cell_type": "code",
   "execution_count": 8,
   "metadata": {},
   "outputs": [],
   "source": [
    "import numpy as np\n",
    "from numpy import sin, cos, sqrt, degrees, radians, arctan, arctan2\n",
    "\n",
    "class GeodeticModel():\n",
    "\n",
    "    # WGS84 Model constants\n",
    "    a = 6378137 # (m) Semimajor Axis\n",
    "    b = 6356752.3142 # (m) Semiminor Axis\n",
    "    esq = 6.69437999014 * 0.001 # First Eccentricity Squared\n",
    "    e1sq = 6.73949674228 * 0.001 # Second Eccentricity Squared\n",
    "    f = 1 / 298.257223563 # Flattening\n",
    "\n",
    "\n",
    "    def __init__(self, lla0):\n",
    "\n",
    "        lat0, lon0, alt0 = lla0\n",
    "\n",
    "        # Save initial lla\n",
    "        self._lla0 = lla0\n",
    "        self._ecef0 = self.geodetic2ecef(lla0)\n",
    "\n",
    "        # ECEF/NED transformation matrices\n",
    "        ecef_x, ecef_y, ecef_z = self._ecef0\n",
    "        phiP = arctan2( ecef_z,\n",
    "                sqrt( ecef_x*ecef_x + ecef_y*ecef_y )\n",
    "                )\n",
    "\n",
    "        self.C_toLfromECEF = self.calcR0(phiP, lon0)\n",
    "        self.C_toECEFfromL = self.calcR0(lat0, lon0).T\n",
    "\n",
    "    def calcR0(self,lat,lon):\n",
    "        sLat = sin( lat )\n",
    "        cLat = cos( lat )\n",
    "        sLon = sin( lon )\n",
    "        cLon = cos( lon )\n",
    "\n",
    "        R0 = np.array([\n",
    "            [-sLat*cLon, -sLon, cLat*cLon],\n",
    "            [-sLat*sLon,  cLon, cLat*sLon],\n",
    "            [      cLat,     0,      sLat],\n",
    "            ])\n",
    "        return R0\n",
    "\n",
    "\n",
    "    def geodetic2ecef(self,lla, wantDeg=False):\n",
    "        \"\"\"\n",
    "        Convert geodetic (WGS84) coordeinates to ECEF using\n",
    "        World Geodetic System 1984 (WGS84) model\n",
    "\n",
    "        lat, lon in radians\n",
    "        alt in meters\n",
    "\n",
    "        \"\"\"\n",
    "        lat,lon,alt = lla\n",
    "\n",
    "        if wantDeg:\n",
    "            lat = radians(lat)\n",
    "            lon = radians(lon)\n",
    "\n",
    "        xi = sqrt(1 - self.esq * sin(lat)*sin(lat))\n",
    "        x = (self.a / xi + alt) * cos(lat) * cos(lon)\n",
    "        y = (self.a / xi + alt) * cos(lat) * sin(lon)\n",
    "        z = (self.a / xi * (1-self.esq) + alt) * sin(lat)\n",
    "\n",
    "        return np.array([x, y, z])\n",
    "\n",
    "    def ecef2geodetic(self, ecef, wantDeg=False):\n",
    "        \"\"\"\n",
    "        Convert ECEF coordinates to geodetic.\n",
    "        J. Zhu, \"Conversion of Earth-centered Earth-fixed coordinates\n",
    "        to geodetic coordinates,\" IEEE Transactions on Aerospace and\n",
    "        Electronic Systems, vol. 30, pp. 957-961, 1994.\n",
    "        \"\"\"\n",
    "        x,y,z = ecef\n",
    "\n",
    "        r = sqrt(x*x + y*y)\n",
    "        Esq = self.a*self.a - self.b*self.b\n",
    "        F = 54 * self.b*self.b * z*z\n",
    "        G = r*r + (1-self.esq) * z*z - self.esq*Esq\n",
    "        C = (self.esq*self.esq * F * r*r) / (G**3)\n",
    "        S = np.cbrt(1 + C + sqrt(C*C + 2*C))\n",
    "        P = F / (3 * (S + 1 / S + 1)**2 * G*G)\n",
    "        Q = np.sqrt(1 + 2 * self.esq*self.esq * P)\n",
    "        r_0 =  -(P * self.esq * r) / (1+Q) + np.sqrt(0.5 * self.a*self.a*(1 + 1.0 / Q) - \\\n",
    "            P * (1-self.esq) * z*z / (Q * (1+Q)) - 0.5 * P * r*r)\n",
    "        t = (r - self.esq * r_0)**2\n",
    "        U = np.sqrt(t + z*z)\n",
    "        V = np.sqrt(t + (1-self.esq) * z*z)\n",
    "        Z_0 = self.b*self.b * z / (self.a * V)\n",
    "        alt = U * (1 - self.b*self.b / (self.a * V))\n",
    "        lat = arctan((z + self.e1sq * Z_0) / r)\n",
    "        lon = arctan2(y, x)\n",
    "\n",
    "        if wantDeg:\n",
    "            lat = degrees(lat)\n",
    "            lon = degrees(lon)\n",
    "\n",
    "        return np.array([lat, lon, alt])\n",
    "\n",
    "    def ecef2ned(self,ecef):\n",
    "        return np.matmul(self.C_toLfromECEF, ecef - self._ecef0)\n",
    "\n",
    "    def ned2ecef(self,ned):\n",
    "        return np.matmul(self.C_toECEFfromL, ned) + self._ecef0\n",
    "\n",
    "    def geodetic2ned(self,lla):\n",
    "        return self.ecef2ned( self.geodetic2ecef( lla ) )\n",
    "\n",
    "    def ned2geodetic(self,ned):\n",
    "        return self.ecef2geodetic( self.ned2ecef( ned ) )\n"
   ]
  },
  {
   "cell_type": "code",
   "execution_count": 10,
   "metadata": {},
   "outputs": [
    {
     "name": "stdout",
     "output_type": "stream",
     "text": [
      "PyProj\n",
      "  lla = [  0.5817706   -1.91986218 400.        ]\n",
      "  ecef = [6374630.0604708  -213680.54782304   64331.84101747]\n",
      "Geodetic Model\n",
      "  lla    = [  0.5817706   -1.91986218 400.        ]\n",
      "  ecef   = [-1824542.15595058 -5012888.37431726  3485093.74129518]\n",
      "  ned    = [ 25.30524509 -88.70253218 -57.85959881]\n",
      "  ecef2  = [-1824542.25065727 -5012888.37431726  3485093.46617459]\n",
      "  lla2   = [  0.58177056  -1.91986219 399.87597306]\n",
      "  llaErr = [-6.69857640e-06  8.68948866e-07 -3.10067348e-02]\n"
     ]
    }
   ],
   "source": [
    "RAD2DEG = 180.0/np.pi\n",
    "DEG2RAD = 1/RAD2DEG\n",
    "\n",
    "# Initial LLA\n",
    "lat = 33.333 * DEG2RAD\n",
    "lon = -110 * DEG2RAD\n",
    "alt = 400 # m\n",
    "lla = np.array([lat,lon,alt])\n",
    "ecef = lla2ecef(lla)\n",
    "print(f\"PyProj\")\n",
    "print(f\"  lla = {lla}\")\n",
    "print(f\"  ecef = {ecef}\")\n",
    "\n",
    "\n",
    "gm = GeodeticModel(lla*0.99999)\n",
    "ecef = gm.geodetic2ecef(lla)\n",
    "ned = gm.ecef2ned(ecef)\n",
    "ecef2 = gm.ned2ecef(ned)\n",
    "lla2 = gm.ecef2geodetic(ecef2)\n",
    "\n",
    "print(f\"Geodetic Model\")\n",
    "print(f\"  lla    = {lla}\")\n",
    "print(f\"  ecef   = {ecef}\")\n",
    "print(f\"  ned    = {ned}\")\n",
    "print(f\"  ecef2  = {ecef2}\")\n",
    "print(f\"  lla2   = {lla2}\")\n",
    "print(f\"  llaErr = {(lla2-lla)/lla*100}\")\n",
    "\n"
   ]
  },
  {
   "cell_type": "code",
   "execution_count": null,
   "metadata": {},
   "outputs": [],
   "source": []
  },
  {
   "cell_type": "code",
   "execution_count": null,
   "metadata": {},
   "outputs": [],
   "source": []
  }
 ],
 "metadata": {
  "kernelspec": {
   "display_name": "Python 3",
   "language": "python",
   "name": "python3"
  },
  "language_info": {
   "codemirror_mode": {
    "name": "ipython",
    "version": 3
   },
   "file_extension": ".py",
   "mimetype": "text/x-python",
   "name": "python",
   "nbconvert_exporter": "python",
   "pygments_lexer": "ipython3",
   "version": "3.8.6"
  }
 },
 "nbformat": 4,
 "nbformat_minor": 4
}
