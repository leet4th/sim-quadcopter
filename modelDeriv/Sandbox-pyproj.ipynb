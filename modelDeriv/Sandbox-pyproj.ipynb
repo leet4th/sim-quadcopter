{
 "cells": [
  {
   "cell_type": "code",
   "execution_count": 1,
   "metadata": {},
   "outputs": [],
   "source": [
    "import numpy as np\n",
    "import pyproj"
   ]
  },
  {
   "cell_type": "markdown",
   "metadata": {},
   "source": [
    "Plan is to update simulation to solve in ECEF coordinates and output lla with noise to model GPS.\n",
    "The sim will start with intial lla, and convert to initial ECEF, then solve in ECEF. Finally, output to nav using ecef2lla."
   ]
  },
  {
   "cell_type": "code",
   "execution_count": 2,
   "metadata": {},
   "outputs": [],
   "source": [
    "# ECEF position\n",
    "x = 652954.1006\n",
    "y = 4774619.7919\n",
    "z =-4167647.7937\n",
    "\n",
    "pos = np.array([x,y,z])\n",
    "\n",
    "# Expected lla \n",
    "# lat  -41.0445318235 deg\n",
    "# lon   82.2128095674 deg\n",
    "# alt 2274.39966936"
   ]
  },
  {
   "cell_type": "code",
   "execution_count": 3,
   "metadata": {},
   "outputs": [],
   "source": [
    "ecef = pyproj.Proj(proj='geocent', ellps='WGS84', datum='WGS84')\n",
    "lla = pyproj.Proj(proj='latlong', ellps='WGS84', datum='WGS84')"
   ]
  },
  {
   "cell_type": "code",
   "execution_count": 4,
   "metadata": {},
   "outputs": [
    {
     "name": "stdout",
     "output_type": "stream",
     "text": [
      "lat = -41.04453182346411\n",
      "lon = 82.2128095673836\n",
      "alt = 2274.399669399485\n",
      "x   =652954.1005999997\n",
      "y   =4774619.791899999\n",
      "z   =-4167647.7937000585\n"
     ]
    }
   ],
   "source": [
    "ecef_2_lla = pyproj.Transformer.from_crs(\n",
    "    {\"proj\":'geocent', \"ellps\":'WGS84', \"datum\":'WGS84'},\n",
    "    {\"proj\":'latlong', \"ellps\":'WGS84', \"datum\":'WGS84'},\n",
    "    )\n",
    "lla_2_ecef = pyproj.Transformer.from_crs(\n",
    "    {\"proj\":'latlong', \"ellps\":'WGS84', \"datum\":'WGS84'},\n",
    "    {\"proj\":'geocent', \"ellps\":'WGS84', \"datum\":'WGS84'},\n",
    "    )\n",
    "lon2, lat2, alt2 = ecef_2_lla.transform(x,y,z,radians=False)\n",
    "x2,y2,z2 = lla_2_ecef.transform(lon2, lat2, alt2,radians=False)\n",
    "\n",
    "print(f\"lat = {lat2}\\nlon = {lon2}\\nalt = {alt2}\")\n",
    "print(f\"x   ={x2}\\ny   ={y2}\\nz   ={z2}\")"
   ]
  },
  {
   "cell_type": "code",
   "execution_count": 5,
   "metadata": {
    "scrolled": true
   },
   "outputs": [],
   "source": [
    "def ecef2lla(pos):\n",
    "    transformer = pyproj.Transformer.from_crs(\n",
    "        {\"proj\":'geocent', \"ellps\":'WGS84', \"datum\":'WGS84'},\n",
    "        {\"proj\":'latlong', \"ellps\":'WGS84', \"datum\":'WGS84'},\n",
    "        )\n",
    "    lon,lat,alt = transformer.transform(pos[0],pos[1],pos[2],\n",
    "                                        radians=False)\n",
    "    return np.array([lat,lon,alt])\n",
    "\n",
    "def lla2ecef(lla):\n",
    "    transformer = pyproj.Transformer.from_crs(\n",
    "        {\"proj\":'latlong', \"ellps\":'WGS84', \"datum\":'WGS84'},\n",
    "        {\"proj\":'geocent', \"ellps\":'WGS84', \"datum\":'WGS84'},\n",
    "        )\n",
    "    # lla (lat, lon, alt)\n",
    "    # transform() expects lon, lat, alt\n",
    "    x,y,z = transformer.transform(lla[1],lla[0],lla[2],\n",
    "                                  radians=False)\n",
    "    return np.array([x,y,z])\n",
    "\n",
    "    "
   ]
  },
  {
   "cell_type": "code",
   "execution_count": 6,
   "metadata": {},
   "outputs": [
    {
     "name": "stdout",
     "output_type": "stream",
     "text": [
      "[ -41.04453182   82.21280957 2274.3996694 ]\n",
      "[  652954.1006      4774619.7919     -4167647.79370006]\n"
     ]
    }
   ],
   "source": [
    "lla = ecef2lla(pos)\n",
    "pos = lla2ecef(lla)\n",
    "print(lla)\n",
    "print(pos)"
   ]
  },
  {
   "cell_type": "code",
   "execution_count": null,
   "metadata": {},
   "outputs": [],
   "source": []
  },
  {
   "cell_type": "code",
   "execution_count": null,
   "metadata": {},
   "outputs": [],
   "source": []
  }
 ],
 "metadata": {
  "kernelspec": {
   "display_name": "Python 3",
   "language": "python",
   "name": "python3"
  },
  "language_info": {
   "codemirror_mode": {
    "name": "ipython",
    "version": 3
   },
   "file_extension": ".py",
   "mimetype": "text/x-python",
   "name": "python",
   "nbconvert_exporter": "python",
   "pygments_lexer": "ipython3",
   "version": "3.8.6"
  }
 },
 "nbformat": 4,
 "nbformat_minor": 4
}
